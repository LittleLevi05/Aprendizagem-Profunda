{
 "cells": [
  {
   "cell_type": "markdown",
   "metadata": {
    "tags": []
   },
   "source": [
    "## **MLP para classificação binária**\n",
    "**Dataset Ionosphere**\n",
    "- Dataset de texto com previsão da existência de uma estrutura na atomosfera com dados de um radar\n",
    "- Classificação \"good\" significa evidência de estrutura na ionosfera e \"bad\" o contrário\n",
    "- 34 atributos contínuos (numéricos) e o 35º é a classificação de \"good\"/\"bad\" com \"g\"/\"b\"\n",
    "- 350 instâncias"
   ]
  },
  {
   "cell_type": "markdown",
   "metadata": {
    "tags": []
   },
   "source": [
    "## Pipeline de um processo de Deep Learning implementado em PyTorch:\n",
    "\n",
    "    1. Preparar os Dados\n",
    "    2. Definir o Modelo\n",
    "    3. Treinar o Modelo\n",
    "    4. Avaliar o Modelo\n",
    "    5. Usar o Modelo\n"
   ]
  },
  {
   "cell_type": "markdown",
   "metadata": {},
   "source": [
    "## Melhoramento do Modelo\n"
   ]
  },
  {
   "cell_type": "code",
   "execution_count": 19,
   "metadata": {
    "tags": []
   },
   "outputs": [
    {
     "name": "stdout",
     "output_type": "stream",
     "text": [
      "2.0.0+cpu\n"
     ]
    }
   ],
   "source": [
    "# Confirmar a instalação\n",
    "\n",
    "import torch\n",
    "print(torch.__version__)"
   ]
  },
  {
   "cell_type": "markdown",
   "metadata": {},
   "source": [
    "## Imports"
   ]
  },
  {
   "cell_type": "code",
   "execution_count": 20,
   "metadata": {
    "tags": []
   },
   "outputs": [],
   "source": [
    "# pytorch mlp for binary classification\n",
    "import time\n",
    "import pandas as pd\n",
    "import numpy as np\n",
    "from sklearn.preprocessing import LabelEncoder\n",
    "from sklearn.metrics import accuracy_score\n",
    "from sklearn.metrics import confusion_matrix, classification_report\n",
    "from torch.utils.data import Dataset\n",
    "from torch.utils.data import DataLoader\n",
    "from torch.utils.data import random_split\n",
    "from torch import Tensor\n",
    "from torch.nn import Linear\n",
    "from torch.nn import ReLU\n",
    "from torch.nn import Sigmoid\n",
    "from torch.nn import Module\n",
    "from torch.optim import SGD, Adam\n",
    "from torch.nn import BCELoss, BCEWithLogitsLoss\n",
    "from torch.nn.init import kaiming_uniform_\n",
    "from torch.nn.init import xavier_uniform_\n",
    "\n",
    "np.random.seed(0) \n",
    "torch.manual_seed(0)\n",
    "import random\n",
    "random.seed(0)"
   ]
  },
  {
   "cell_type": "code",
   "execution_count": 21,
   "metadata": {
    "tags": []
   },
   "outputs": [],
   "source": [
    "#####ir buscar o dataset:\n",
    "#!wget -c https://raw.githubusercontent.com/jbrownlee/Datasets/master/ionosphere.csv -O ionosphere.csv"
   ]
  },
  {
   "cell_type": "code",
   "execution_count": 22,
   "metadata": {
    "tags": []
   },
   "outputs": [
    {
     "name": "stdout",
     "output_type": "stream",
     "text": [
      "Using device: cpu\n",
      "\n"
     ]
    }
   ],
   "source": [
    "#Constants\n",
    "\n",
    "#path = 'https://raw.githubusercontent.com/jbrownlee/Datasets/master/ionosphere.csv'\n",
    "PATH = 'ionosphere.csv'\n",
    "# setting device on GPU if available, else CPU\n",
    "#device = torch.device('cuda' if torch.cuda.is_available() else 'cpu')\n",
    "##Additional Info when using cuda\n",
    "#if device.type == 'cuda':\n",
    "#    print(torch.cuda.get_device_name(0))\n",
    "#    print('Memory Usage:')\n",
    "#    print('Allocated:', round(torch.cuda.memory_allocated(0)/1024**3,1), 'GB')\n",
    "#    print('Cached:   ', round(torch.cuda.memory_reserved(0)/1024**3,1), 'GB')\n",
    "\n",
    "\n",
    "#force cpu\n",
    "device = torch.device(\"cpu\")\n",
    "print('Using device:', device)\n",
    "print()\n",
    "\n",
    "\n",
    "EPOCHS = 50\n",
    "BATCH_SIZE = 64\n",
    "LEARNING_RATE = 0.005"
   ]
  },
  {
   "cell_type": "markdown",
   "metadata": {
    "tags": []
   },
   "source": [
    "## *1. Preparar os Dados"
   ]
  },
  {
   "cell_type": "code",
   "execution_count": 23,
   "metadata": {
    "tags": []
   },
   "outputs": [
    {
     "name": "stdout",
     "output_type": "stream",
     "text": [
      "sem strat <class 'torch.utils.data.dataset.Subset'>\n",
      "torch.Size([263, 34]) torch.Size([263, 1])\n",
      "torch.Size([88, 34]) torch.Size([88, 1])\n",
      "com strat <class 'torch.utils.data.dataset.TensorDataset'>\n",
      "torch.Size([235, 34]) torch.Size([235, 1])\n",
      "torch.Size([116, 34]) torch.Size([116, 1])\n"
     ]
    }
   ],
   "source": [
    "from sklearn.model_selection import train_test_split\n",
    "from torch.utils.data import TensorDataset\n",
    "\n",
    "# definição classe para o dataset\n",
    "class CSVDataset(Dataset):\n",
    "    # ler o dataset\n",
    "    def __init__(self, path):\n",
    "        # ler o ficheiro csv para um dataframe\n",
    "        df = pd.read_csv(path, header=None)\n",
    "        # separar os inputs e os outputs\n",
    "        self.X = df.values[:, :-1]\n",
    "        self.y = df.values[:, -1]\n",
    "        # garantir que os inputs sejam floats\n",
    "        self.X = self.X.astype('float32')\n",
    "        # fazer o encoding dos outputs (label) e garantir que sejam floats\n",
    "        self.y = LabelEncoder().fit_transform(self.y) #faz o fit e transforma no self.y o 'g' e o 'b' em 0 e 1\n",
    "        self.y = self.y.astype('float32')\n",
    "        self.y = self.y.reshape((len(self.y), 1))   \n",
    "        \n",
    "    # número de casos no dataset\n",
    "    def __len__(self):\n",
    "        return len(self.X)\n",
    " \n",
    "    # retornar um caso\n",
    "    def __getitem__(self, idx):\n",
    "        return [self.X[idx], self.y[idx]]\n",
    " \n",
    "    # retornar índices para casos de treino e de teste\n",
    "    def get_splits(self, n_test=0.25):\n",
    "        # calcular o tamanho para o split\n",
    "        test_size = round(n_test * len(self.X))\n",
    "        train_size = len(self.X) - test_size\n",
    "        # calcular o split do houldout\n",
    "        return random_split(self, [train_size, test_size], generator=torch.Generator().manual_seed(42))\n",
    "    \n",
    "    # Stratified Sampling for train and test\n",
    "    def get_splits_strat(self, n_test=0.33):\n",
    "        train_X, test_X, train_y, test_y = train_test_split(self.X, self.y, \n",
    "                                             test_size=n_test,\n",
    "                                             random_state=999,\n",
    "                                             shuffle=True,\n",
    "                                             stratify=self.y)\n",
    "        train = TensorDataset(torch.from_numpy(train_X),torch.from_numpy(train_y))\n",
    "        test = TensorDataset(torch.from_numpy(test_X),torch.from_numpy(test_y))\n",
    "        return train, test\n",
    "    \n",
    "# preparar o dataset\n",
    "def prepare_data(path):\n",
    "    # criar uma instância do dataset\n",
    "    dataset = CSVDataset(path)\n",
    "    # calcular o split\n",
    "    train, test = dataset.get_splits()\n",
    "    print('sem strat',type(train))\n",
    "    # preparar os data loaders\n",
    "    train_dl = DataLoader(train, batch_size=len(train), shuffle=True) #32 len(train)\n",
    "    test_dl = DataLoader(test, batch_size=1024, shuffle=False)\n",
    "    train_dl_all = DataLoader(train, batch_size=len(train), shuffle=False)\n",
    "    test_dl_all = DataLoader(test, batch_size=len(test), shuffle=False)\n",
    "    return train_dl, test_dl, train_dl_all, test_dl_all\n",
    "\n",
    "# preparar o dataset\n",
    "def prepare_data_strat(path):\n",
    "    # criar uma instância do dataset\n",
    "    dataset = CSVDataset(path)\n",
    "    # calcular o split\n",
    "    train, test = dataset.get_splits_strat()\n",
    "    print('com strat',type(train))\n",
    "    # preparar os data loaders\n",
    "    train_dl = DataLoader(train, batch_size=len(train), shuffle=True) #32 len(train)\n",
    "    test_dl = DataLoader(test, batch_size=1024, shuffle=False)\n",
    "    train_dl_all = DataLoader(train, batch_size=len(train), shuffle=False)\n",
    "    test_dl_all = DataLoader(test, batch_size=len(test), shuffle=False)\n",
    "    return train_dl, test_dl, train_dl_all, test_dl_all\n",
    "\n",
    "\n",
    "# preparar os dados\n",
    "train_dl, test_dl,  train_dl_all, test_dl_all = prepare_data(PATH)\n",
    "\n",
    "# sanity check\n",
    "x,y = next(iter(train_dl))\n",
    "print(x.shape, y.shape)\n",
    "x,y = next(iter(test_dl))\n",
    "print(x.shape, y.shape)\n",
    "\n",
    "# preparar os dados\n",
    "train_s_dl, test_s_dl,  train_s_dl_all, test_s_dl_all = prepare_data_strat(PATH)\n",
    "\n",
    "# sanity check\n",
    "x,y = next(iter(train_s_dl))\n",
    "print(x.shape, y.shape)\n",
    "x,y = next(iter(test_s_dl))\n",
    "print(x.shape, y.shape)"
   ]
  },
  {
   "cell_type": "markdown",
   "metadata": {
    "tags": []
   },
   "source": [
    "## *1.1 Visualizar os Dados"
   ]
  },
  {
   "cell_type": "code",
   "execution_count": 24,
   "metadata": {
    "tags": []
   },
   "outputs": [
    {
     "data": {
      "text/html": [
       "<div>\n",
       "<style scoped>\n",
       "    .dataframe tbody tr th:only-of-type {\n",
       "        vertical-align: middle;\n",
       "    }\n",
       "\n",
       "    .dataframe tbody tr th {\n",
       "        vertical-align: top;\n",
       "    }\n",
       "\n",
       "    .dataframe thead th {\n",
       "        text-align: right;\n",
       "    }\n",
       "</style>\n",
       "<table border=\"1\" class=\"dataframe\">\n",
       "  <thead>\n",
       "    <tr style=\"text-align: right;\">\n",
       "      <th></th>\n",
       "      <th>0</th>\n",
       "      <th>1</th>\n",
       "      <th>2</th>\n",
       "      <th>3</th>\n",
       "      <th>4</th>\n",
       "      <th>5</th>\n",
       "      <th>6</th>\n",
       "      <th>7</th>\n",
       "      <th>8</th>\n",
       "      <th>9</th>\n",
       "      <th>...</th>\n",
       "      <th>25</th>\n",
       "      <th>26</th>\n",
       "      <th>27</th>\n",
       "      <th>28</th>\n",
       "      <th>29</th>\n",
       "      <th>30</th>\n",
       "      <th>31</th>\n",
       "      <th>32</th>\n",
       "      <th>33</th>\n",
       "      <th>34</th>\n",
       "    </tr>\n",
       "  </thead>\n",
       "  <tbody>\n",
       "    <tr>\n",
       "      <th>0</th>\n",
       "      <td>1</td>\n",
       "      <td>0</td>\n",
       "      <td>0.99539</td>\n",
       "      <td>-0.05889</td>\n",
       "      <td>0.85243</td>\n",
       "      <td>0.02306</td>\n",
       "      <td>0.83398</td>\n",
       "      <td>-0.37708</td>\n",
       "      <td>1.00000</td>\n",
       "      <td>0.03760</td>\n",
       "      <td>...</td>\n",
       "      <td>-0.51171</td>\n",
       "      <td>0.41078</td>\n",
       "      <td>-0.46168</td>\n",
       "      <td>0.21266</td>\n",
       "      <td>-0.34090</td>\n",
       "      <td>0.42267</td>\n",
       "      <td>-0.54487</td>\n",
       "      <td>0.18641</td>\n",
       "      <td>-0.45300</td>\n",
       "      <td>g</td>\n",
       "    </tr>\n",
       "    <tr>\n",
       "      <th>1</th>\n",
       "      <td>1</td>\n",
       "      <td>0</td>\n",
       "      <td>1.00000</td>\n",
       "      <td>-0.18829</td>\n",
       "      <td>0.93035</td>\n",
       "      <td>-0.36156</td>\n",
       "      <td>-0.10868</td>\n",
       "      <td>-0.93597</td>\n",
       "      <td>1.00000</td>\n",
       "      <td>-0.04549</td>\n",
       "      <td>...</td>\n",
       "      <td>-0.26569</td>\n",
       "      <td>-0.20468</td>\n",
       "      <td>-0.18401</td>\n",
       "      <td>-0.19040</td>\n",
       "      <td>-0.11593</td>\n",
       "      <td>-0.16626</td>\n",
       "      <td>-0.06288</td>\n",
       "      <td>-0.13738</td>\n",
       "      <td>-0.02447</td>\n",
       "      <td>b</td>\n",
       "    </tr>\n",
       "    <tr>\n",
       "      <th>2</th>\n",
       "      <td>1</td>\n",
       "      <td>0</td>\n",
       "      <td>1.00000</td>\n",
       "      <td>-0.03365</td>\n",
       "      <td>1.00000</td>\n",
       "      <td>0.00485</td>\n",
       "      <td>1.00000</td>\n",
       "      <td>-0.12062</td>\n",
       "      <td>0.88965</td>\n",
       "      <td>0.01198</td>\n",
       "      <td>...</td>\n",
       "      <td>-0.40220</td>\n",
       "      <td>0.58984</td>\n",
       "      <td>-0.22145</td>\n",
       "      <td>0.43100</td>\n",
       "      <td>-0.17365</td>\n",
       "      <td>0.60436</td>\n",
       "      <td>-0.24180</td>\n",
       "      <td>0.56045</td>\n",
       "      <td>-0.38238</td>\n",
       "      <td>g</td>\n",
       "    </tr>\n",
       "    <tr>\n",
       "      <th>3</th>\n",
       "      <td>1</td>\n",
       "      <td>0</td>\n",
       "      <td>1.00000</td>\n",
       "      <td>-0.45161</td>\n",
       "      <td>1.00000</td>\n",
       "      <td>1.00000</td>\n",
       "      <td>0.71216</td>\n",
       "      <td>-1.00000</td>\n",
       "      <td>0.00000</td>\n",
       "      <td>0.00000</td>\n",
       "      <td>...</td>\n",
       "      <td>0.90695</td>\n",
       "      <td>0.51613</td>\n",
       "      <td>1.00000</td>\n",
       "      <td>1.00000</td>\n",
       "      <td>-0.20099</td>\n",
       "      <td>0.25682</td>\n",
       "      <td>1.00000</td>\n",
       "      <td>-0.32382</td>\n",
       "      <td>1.00000</td>\n",
       "      <td>b</td>\n",
       "    </tr>\n",
       "    <tr>\n",
       "      <th>4</th>\n",
       "      <td>1</td>\n",
       "      <td>0</td>\n",
       "      <td>1.00000</td>\n",
       "      <td>-0.02401</td>\n",
       "      <td>0.94140</td>\n",
       "      <td>0.06531</td>\n",
       "      <td>0.92106</td>\n",
       "      <td>-0.23255</td>\n",
       "      <td>0.77152</td>\n",
       "      <td>-0.16399</td>\n",
       "      <td>...</td>\n",
       "      <td>-0.65158</td>\n",
       "      <td>0.13290</td>\n",
       "      <td>-0.53206</td>\n",
       "      <td>0.02431</td>\n",
       "      <td>-0.62197</td>\n",
       "      <td>-0.05707</td>\n",
       "      <td>-0.59573</td>\n",
       "      <td>-0.04608</td>\n",
       "      <td>-0.65697</td>\n",
       "      <td>g</td>\n",
       "    </tr>\n",
       "    <tr>\n",
       "      <th>...</th>\n",
       "      <td>...</td>\n",
       "      <td>...</td>\n",
       "      <td>...</td>\n",
       "      <td>...</td>\n",
       "      <td>...</td>\n",
       "      <td>...</td>\n",
       "      <td>...</td>\n",
       "      <td>...</td>\n",
       "      <td>...</td>\n",
       "      <td>...</td>\n",
       "      <td>...</td>\n",
       "      <td>...</td>\n",
       "      <td>...</td>\n",
       "      <td>...</td>\n",
       "      <td>...</td>\n",
       "      <td>...</td>\n",
       "      <td>...</td>\n",
       "      <td>...</td>\n",
       "      <td>...</td>\n",
       "      <td>...</td>\n",
       "      <td>...</td>\n",
       "    </tr>\n",
       "    <tr>\n",
       "      <th>346</th>\n",
       "      <td>1</td>\n",
       "      <td>0</td>\n",
       "      <td>0.83508</td>\n",
       "      <td>0.08298</td>\n",
       "      <td>0.73739</td>\n",
       "      <td>-0.14706</td>\n",
       "      <td>0.84349</td>\n",
       "      <td>-0.05567</td>\n",
       "      <td>0.90441</td>\n",
       "      <td>-0.04622</td>\n",
       "      <td>...</td>\n",
       "      <td>-0.04202</td>\n",
       "      <td>0.83479</td>\n",
       "      <td>0.00123</td>\n",
       "      <td>1.00000</td>\n",
       "      <td>0.12815</td>\n",
       "      <td>0.86660</td>\n",
       "      <td>-0.10714</td>\n",
       "      <td>0.90546</td>\n",
       "      <td>-0.04307</td>\n",
       "      <td>g</td>\n",
       "    </tr>\n",
       "    <tr>\n",
       "      <th>347</th>\n",
       "      <td>1</td>\n",
       "      <td>0</td>\n",
       "      <td>0.95113</td>\n",
       "      <td>0.00419</td>\n",
       "      <td>0.95183</td>\n",
       "      <td>-0.02723</td>\n",
       "      <td>0.93438</td>\n",
       "      <td>-0.01920</td>\n",
       "      <td>0.94590</td>\n",
       "      <td>0.01606</td>\n",
       "      <td>...</td>\n",
       "      <td>0.01361</td>\n",
       "      <td>0.93522</td>\n",
       "      <td>0.04925</td>\n",
       "      <td>0.93159</td>\n",
       "      <td>0.08168</td>\n",
       "      <td>0.94066</td>\n",
       "      <td>-0.00035</td>\n",
       "      <td>0.91483</td>\n",
       "      <td>0.04712</td>\n",
       "      <td>g</td>\n",
       "    </tr>\n",
       "    <tr>\n",
       "      <th>348</th>\n",
       "      <td>1</td>\n",
       "      <td>0</td>\n",
       "      <td>0.94701</td>\n",
       "      <td>-0.00034</td>\n",
       "      <td>0.93207</td>\n",
       "      <td>-0.03227</td>\n",
       "      <td>0.95177</td>\n",
       "      <td>-0.03431</td>\n",
       "      <td>0.95584</td>\n",
       "      <td>0.02446</td>\n",
       "      <td>...</td>\n",
       "      <td>0.03193</td>\n",
       "      <td>0.92489</td>\n",
       "      <td>0.02542</td>\n",
       "      <td>0.92120</td>\n",
       "      <td>0.02242</td>\n",
       "      <td>0.92459</td>\n",
       "      <td>0.00442</td>\n",
       "      <td>0.92697</td>\n",
       "      <td>-0.00577</td>\n",
       "      <td>g</td>\n",
       "    </tr>\n",
       "    <tr>\n",
       "      <th>349</th>\n",
       "      <td>1</td>\n",
       "      <td>0</td>\n",
       "      <td>0.90608</td>\n",
       "      <td>-0.01657</td>\n",
       "      <td>0.98122</td>\n",
       "      <td>-0.01989</td>\n",
       "      <td>0.95691</td>\n",
       "      <td>-0.03646</td>\n",
       "      <td>0.85746</td>\n",
       "      <td>0.00110</td>\n",
       "      <td>...</td>\n",
       "      <td>-0.02099</td>\n",
       "      <td>0.89147</td>\n",
       "      <td>-0.07760</td>\n",
       "      <td>0.82983</td>\n",
       "      <td>-0.17238</td>\n",
       "      <td>0.96022</td>\n",
       "      <td>-0.03757</td>\n",
       "      <td>0.87403</td>\n",
       "      <td>-0.16243</td>\n",
       "      <td>g</td>\n",
       "    </tr>\n",
       "    <tr>\n",
       "      <th>350</th>\n",
       "      <td>1</td>\n",
       "      <td>0</td>\n",
       "      <td>0.84710</td>\n",
       "      <td>0.13533</td>\n",
       "      <td>0.73638</td>\n",
       "      <td>-0.06151</td>\n",
       "      <td>0.87873</td>\n",
       "      <td>0.08260</td>\n",
       "      <td>0.88928</td>\n",
       "      <td>-0.09139</td>\n",
       "      <td>...</td>\n",
       "      <td>-0.15114</td>\n",
       "      <td>0.81147</td>\n",
       "      <td>-0.04822</td>\n",
       "      <td>0.78207</td>\n",
       "      <td>-0.00703</td>\n",
       "      <td>0.75747</td>\n",
       "      <td>-0.06678</td>\n",
       "      <td>0.85764</td>\n",
       "      <td>-0.06151</td>\n",
       "      <td>g</td>\n",
       "    </tr>\n",
       "  </tbody>\n",
       "</table>\n",
       "<p>351 rows × 35 columns</p>\n",
       "</div>"
      ],
      "text/plain": [
       "     0   1        2        3        4        5        6        7        8   \\\n",
       "0     1   0  0.99539 -0.05889  0.85243  0.02306  0.83398 -0.37708  1.00000   \n",
       "1     1   0  1.00000 -0.18829  0.93035 -0.36156 -0.10868 -0.93597  1.00000   \n",
       "2     1   0  1.00000 -0.03365  1.00000  0.00485  1.00000 -0.12062  0.88965   \n",
       "3     1   0  1.00000 -0.45161  1.00000  1.00000  0.71216 -1.00000  0.00000   \n",
       "4     1   0  1.00000 -0.02401  0.94140  0.06531  0.92106 -0.23255  0.77152   \n",
       "..   ..  ..      ...      ...      ...      ...      ...      ...      ...   \n",
       "346   1   0  0.83508  0.08298  0.73739 -0.14706  0.84349 -0.05567  0.90441   \n",
       "347   1   0  0.95113  0.00419  0.95183 -0.02723  0.93438 -0.01920  0.94590   \n",
       "348   1   0  0.94701 -0.00034  0.93207 -0.03227  0.95177 -0.03431  0.95584   \n",
       "349   1   0  0.90608 -0.01657  0.98122 -0.01989  0.95691 -0.03646  0.85746   \n",
       "350   1   0  0.84710  0.13533  0.73638 -0.06151  0.87873  0.08260  0.88928   \n",
       "\n",
       "          9   ...       25       26       27       28       29       30  \\\n",
       "0    0.03760  ... -0.51171  0.41078 -0.46168  0.21266 -0.34090  0.42267   \n",
       "1   -0.04549  ... -0.26569 -0.20468 -0.18401 -0.19040 -0.11593 -0.16626   \n",
       "2    0.01198  ... -0.40220  0.58984 -0.22145  0.43100 -0.17365  0.60436   \n",
       "3    0.00000  ...  0.90695  0.51613  1.00000  1.00000 -0.20099  0.25682   \n",
       "4   -0.16399  ... -0.65158  0.13290 -0.53206  0.02431 -0.62197 -0.05707   \n",
       "..       ...  ...      ...      ...      ...      ...      ...      ...   \n",
       "346 -0.04622  ... -0.04202  0.83479  0.00123  1.00000  0.12815  0.86660   \n",
       "347  0.01606  ...  0.01361  0.93522  0.04925  0.93159  0.08168  0.94066   \n",
       "348  0.02446  ...  0.03193  0.92489  0.02542  0.92120  0.02242  0.92459   \n",
       "349  0.00110  ... -0.02099  0.89147 -0.07760  0.82983 -0.17238  0.96022   \n",
       "350 -0.09139  ... -0.15114  0.81147 -0.04822  0.78207 -0.00703  0.75747   \n",
       "\n",
       "          31       32       33  34  \n",
       "0   -0.54487  0.18641 -0.45300   g  \n",
       "1   -0.06288 -0.13738 -0.02447   b  \n",
       "2   -0.24180  0.56045 -0.38238   g  \n",
       "3    1.00000 -0.32382  1.00000   b  \n",
       "4   -0.59573 -0.04608 -0.65697   g  \n",
       "..       ...      ...      ...  ..  \n",
       "346 -0.10714  0.90546 -0.04307   g  \n",
       "347 -0.00035  0.91483  0.04712   g  \n",
       "348  0.00442  0.92697 -0.00577   g  \n",
       "349 -0.03757  0.87403 -0.16243   g  \n",
       "350 -0.06678  0.85764 -0.06151   g  \n",
       "\n",
       "[351 rows x 35 columns]"
      ]
     },
     "metadata": {},
     "output_type": "display_data"
    },
    {
     "name": "stdout",
     "output_type": "stream",
     "text": [
      "Quantidade de casos de Treino:263\n",
      "Quantidade de casos de Teste:88\n",
      "Shape tensor batch casos treino, input: torch.Size([263, 34]), output: torch.Size([263, 1])\n",
      "Shape tensor batch casos teste, input: torch.Size([88, 34]), output: torch.Size([88, 1])\n"
     ]
    }
   ],
   "source": [
    "from IPython.display import display\n",
    "\n",
    "def visualize_data(path):\n",
    "    # criar uma instância do dataset\n",
    "    df = pd.read_csv(path, header=None)\n",
    "    display(df)\n",
    "\n",
    "def visualize_dataset(train_dl, test_dl):\n",
    "    print(f\"Quantidade de casos de Treino:{len(train_dl.dataset)}\") \n",
    "    print(f\"Quantidade de casos de Teste:{len(test_dl.dataset)}\")\n",
    "    x, y = next(iter(train_dl)) #fazer uma iteração nos loaders para ir buscar um batch de casos\n",
    "    print(f\"Shape tensor batch casos treino, input: {x.shape}, output: {y.shape}\")\n",
    "    x, y = next(iter(test_dl))  \n",
    "    print(f\"Shape tensor batch casos teste, input: {x.shape}, output: {y.shape}\")\n",
    "\n",
    "visualize_data(PATH)\n",
    "visualize_dataset(train_dl, test_dl)"
   ]
  },
  {
   "cell_type": "markdown",
   "metadata": {
    "tags": []
   },
   "source": [
    "## *1.2 Verificar balanceamento do dataset"
   ]
  },
  {
   "cell_type": "code",
   "execution_count": 25,
   "metadata": {
    "tags": []
   },
   "outputs": [
    {
     "name": "stdout",
     "output_type": "stream",
     "text": [
      "casos_treino: 263\n",
      "g_Train:  170\n",
      "b_Train:  93\n",
      "g_Train/b_Train:  1.8279569892473118\n",
      "casos_test: 88\n",
      "g_Test:  55\n",
      "b_Test:  33\n",
      "g_Test/b_Test:  1.6666666666666667\n"
     ]
    },
    {
     "data": {
      "image/png": "[encoded data removed]",
      "text/plain": [
       "<Figure size 640x480 with 1 Axes>"
      ]
     },
     "metadata": {},
     "output_type": "display_data"
    }
   ],
   "source": [
    "import seaborn as sns\n",
    "import matplotlib.pyplot as plt\n",
    "\n",
    "def visualize_holdout_balance(train_dl, test_dl):\n",
    "    _, y_train = next(iter(train_dl))                            \n",
    "    _, y_test = next(iter(test_dl))\n",
    "\n",
    "    sns.set_style('whitegrid')\n",
    "    casos_treino=len(y_train) # calcular o nº de casos de treino\n",
    "    casos_test=len(y_test) # calcular o nº de casos de teste\n",
    "    b_Train=np.count_nonzero(y_train == 0) # calcular o nº de 0 nos casos de treino\n",
    "    g_Train = np.count_nonzero(y_train == 1) # calcular o nº de 1 nos casos de treino\n",
    "    b_Test=np.count_nonzero(y_test == 0) # calcular o nº de 0 nos casos de teste\n",
    "    g_Test = np.count_nonzero(y_test == 1) # calcular o nº de 1 nos casos de teste\n",
    "    print(\"casos_treino:\",casos_treino)\n",
    "    print(\"g_Train: \", g_Train)\n",
    "    print(\"b_Train: \", b_Train)\n",
    "    print(\"g_Train/b_Train: \", g_Train/b_Train) # rácio de g em b\n",
    "    print(\"casos_test:\",casos_test)\n",
    "    print(\"g_Test: \", g_Test)\n",
    "    print(\"b_Test: \", b_Test)\n",
    "    print(\"g_Test/b_Test: \", g_Test/b_Test) # rácio de g em b\n",
    "\n",
    "    grafico=sns.barplot(x=['g_Train','b_Train', 'g_Test', 'b_Test'], \n",
    "                        y=[g_Train,b_Train, g_Test, b_Test])\n",
    "    grafico.set_title('Data balance ')\n",
    "    plt.xticks(rotation=70)\n",
    "    plt.tight_layout()\n",
    "    plt.show() \n",
    "    \n",
    "visualize_holdout_balance(train_dl_all, test_dl_all)"
   ]
  },
  {
   "cell_type": "code",
   "execution_count": 26,
   "metadata": {
    "tags": []
   },
   "outputs": [
    {
     "name": "stdout",
     "output_type": "stream",
     "text": [
      "casos_treino: 235\n",
      "g_Train:  151\n",
      "b_Train:  84\n",
      "g_Train/b_Train:  1.7976190476190477\n",
      "casos_test: 116\n",
      "g_Test:  74\n",
      "b_Test:  42\n",
      "g_Test/b_Test:  1.7619047619047619\n"
     ]
    },
    {
     "data": {
      "image/png": "[encoded data removed]",
      "text/plain": [
       "<Figure size 640x480 with 1 Axes>"
      ]
     },
     "metadata": {},
     "output_type": "display_data"
    }
   ],
   "source": [
    "visualize_holdout_balance(train_s_dl_all, test_s_dl_all)"
   ]
  },
  {
   "cell_type": "markdown",
   "metadata": {
    "tags": []
   },
   "source": [
    "## *2. Definir o Modelo"
   ]
  },
  {
   "cell_type": "code",
   "execution_count": 27,
   "metadata": {
    "tags": []
   },
   "outputs": [],
   "source": [
    "#### Instalar o torchinfo\n",
    "#!pip install torchinfo"
   ]
  },
  {
   "cell_type": "code",
   "execution_count": 28,
   "metadata": {
    "tags": []
   },
   "outputs": [
    {
     "name": "stdout",
     "output_type": "stream",
     "text": [
      "==========================================================================================\n",
      "Layer (type:depth-idx)                   Output Shape              Param #\n",
      "==========================================================================================\n",
      "MLP                                      [32, 1]                   --\n",
      "├─Linear: 1-1                            [32, 46]                  1,610\n",
      "├─ReLU: 1-2                              [32, 46]                  --\n",
      "├─Linear: 1-3                            [32, 22]                  1,034\n",
      "├─ReLU: 1-4                              [32, 22]                  --\n",
      "├─Linear: 1-5                            [32, 1]                   23\n",
      "├─Sigmoid: 1-6                           [32, 1]                   --\n",
      "==========================================================================================\n",
      "Total params: 2,667\n",
      "Trainable params: 2,667\n",
      "Non-trainable params: 0\n",
      "Total mult-adds (M): 0.09\n",
      "==========================================================================================\n",
      "Input size (MB): 0.00\n",
      "Forward/backward pass size (MB): 0.02\n",
      "Params size (MB): 0.01\n",
      "Estimated Total Size (MB): 0.03\n",
      "==========================================================================================\n"
     ]
    },
    {
     "name": "stderr",
     "output_type": "stream",
     "text": [
      "c:\\Users\\parol\\AppData\\Local\\Programs\\Python\\Python39\\lib\\site-packages\\torchinfo\\torchinfo.py:477: UserWarning: TypedStorage is deprecated. It will be removed in the future and UntypedStorage will be the only storage class. This should only matter to you if you are using storages directly.  To access UntypedStorage directly, use tensor.untyped_storage() instead of tensor.storage()\n",
      "  action_fn=lambda data: sys.getsizeof(data.storage()),\n",
      "c:\\Users\\parol\\AppData\\Local\\Programs\\Python\\Python39\\lib\\site-packages\\torch\\storage.py:665: UserWarning: TypedStorage is deprecated. It will be removed in the future and UntypedStorage will be the only storage class. This should only matter to you if you are using storages directly.  To access UntypedStorage directly, use tensor.untyped_storage() instead of tensor.storage()\n",
      "  return super().__sizeof__() + self.nbytes()\n"
     ]
    },
    {
     "data": {
      "text/plain": [
       "MLP(\n",
       "  (hidden1): Linear(in_features=34, out_features=46, bias=True)\n",
       "  (act1): ReLU()\n",
       "  (hidden2): Linear(in_features=46, out_features=22, bias=True)\n",
       "  (act2): ReLU()\n",
       "  (hidden3): Linear(in_features=22, out_features=1, bias=True)\n",
       "  (act3): Sigmoid()\n",
       ")"
      ]
     },
     "execution_count": 28,
     "metadata": {},
     "output_type": "execute_result"
    }
   ],
   "source": [
    "from torchinfo import summary\n",
    "\n",
    "# Definição da classe para o modelo\n",
    "class MLP(Module):\n",
    "    # definir elementos do modelo\n",
    "    def __init__(self, n_inputs):\n",
    "        super(MLP, self).__init__()\n",
    "        # input para a primeira camada - Linear - ReLU\n",
    "        self.hidden1 = Linear(n_inputs, 46)\n",
    "        kaiming_uniform_(self.hidden1.weight, nonlinearity='relu') # He initialization\n",
    "        self.act1 = ReLU()\n",
    "        # segunda camada - Linear - ReLU\n",
    "        self.hidden2 = Linear(46, 22)\n",
    "        kaiming_uniform_(self.hidden2.weight, nonlinearity='relu')\n",
    "        self.act2 = ReLU()\n",
    "        # terceira camada e output Linear - Sigmoid\n",
    "        self.hidden3 = Linear(22, 1)\n",
    "        xavier_uniform_(self.hidden3.weight) # Glorot initialization\n",
    "        self.act3 = Sigmoid()\n",
    " \n",
    "    # sequência de propagação do input \n",
    "    def forward(self, X):\n",
    "        # input para a primeira camada\n",
    "        X = self.hidden1(X)\n",
    "        X = self.act1(X)\n",
    "        # input para a segunda camada\n",
    "        X = self.hidden2(X)\n",
    "        X = self.act2(X)\n",
    "        # input para a terceira camada e output\n",
    "        X = self.hidden3(X)\n",
    "        X = self.act3(X)\n",
    "        return X\n",
    " \n",
    "# definir a rede neuronal\n",
    "model1 = MLP(34)\n",
    "model2 = MLP(34)\n",
    "# visualizar a rede\n",
    "batch_size = 32\n",
    "# sumário da rede\n",
    "print(summary(model1, input_size=(batch_size, 34), device=device, verbose=0)) #verbose=2 Show weight and bias layers in full detail\n",
    "model1.to(device)\n",
    "model2.to(device)"
   ]
  },
  {
   "cell_type": "markdown",
   "metadata": {
    "tags": []
   },
   "source": [
    "## *3. Treinar o Modelo"
   ]
  },
  {
   "cell_type": "code",
   "execution_count": 29,
   "metadata": {
    "tags": []
   },
   "outputs": [],
   "source": [
    "## Instalar o livelossplot\n",
    "#!pip install livelossplot"
   ]
  },
  {
   "cell_type": "code",
   "execution_count": 30,
   "metadata": {
    "tags": []
   },
   "outputs": [],
   "source": [
    "#versão com display de gráfico\n",
    "from livelossplot import PlotLosses\n",
    "\n",
    "# treino do modelo\n",
    "def train_model(train_dl, model):\n",
    "    liveloss = PlotLosses() # para visualizarmos o processo de treino\n",
    "    # definir a função de loss e a função de otimização\n",
    "    # criterion = BCELoss() # Binary Cross Entropy - precisa de signoid como função de ativação na saida\n",
    "    criterion = BCEWithLogitsLoss()\n",
    "    # optimizer = SGD(model.parameters(), lr=LEARNING_RATE, momentum=0.9) # stochastic gradient descent\n",
    "    optimizer = Adam(model.parameters(), lr=LEARNING_RATE)\n",
    "    # iterar as epochs\n",
    "    for epoch in range(EPOCHS):\n",
    "        logs = {} # para visualizarmos o processo de treino\n",
    "        # iterar as batchs\n",
    "        epoch_loss  = 0.0 # para visualizarmos o processo de treino\n",
    "        epoch_acc  = 0.0 # para visualizarmos o processo de treino\n",
    "        for i, (inputs, labels) in enumerate(train_dl): # backpropagation\n",
    "            # inicializar os gradientes\n",
    "            optimizer.zero_grad() # coloca os gradientes de todos os parametros a zero\n",
    "            # calcular o output do modelo - previsao/forward\n",
    "            outputs = model(inputs)\n",
    "            # calcular o loss\n",
    "            loss = criterion(outputs, labels)\n",
    "            # calcular a accuracy\n",
    "            #acc = binary_acc(outputs, labels)\n",
    "            acc = accuracy_score(outputs.detach().numpy().round(), labels.numpy(), normalize=False)\n",
    "            # atribuição alteraçoes \"In the backward pass we receive a Tensor containing the gradient of the loss\n",
    "            # with respect to the output, and we need to compute the gradient of the loss with respect to the input.\n",
    "            loss.backward() #backpropagation\n",
    "            # update pesos do modelo\n",
    "            optimizer.step()\n",
    "            # calcular epochs de loss e epochs de accuracy\n",
    "            epoch_loss += loss.item()\n",
    "            epoch_acc += acc.item()\n",
    "        \n",
    "        epoch_loss = epoch_loss/len(train_dl.dataset)\n",
    "        epoch_acc = epoch_acc/len(train_dl.dataset)\n",
    "        print(f'Epoch {epoch:03}: | Loss: {epoch_loss:.5f} | Acc: {epoch_acc:.3f}')      \n",
    "        logs['loss'] = epoch_loss # para visualizarmos o processo de treino\n",
    "        logs['accuracy'] = epoch_acc # para visualizarmos o processo de treino\n",
    "        liveloss.update(logs) # para visualizarmos o processo de treino\n",
    "        liveloss.send() # para visualizarmos o processo de treino\n",
    " \n",
    "# treinar o modelo\n",
    "#%timeit train_model(train_dl, model1)"
   ]
  },
  {
   "cell_type": "code",
   "execution_count": 31,
   "metadata": {
    "tags": []
   },
   "outputs": [],
   "source": [
    "#%%timeit\n",
    "# treinar o modelo\n",
    "\n",
    "it = time.time()\n",
    "#train_model(train_dl, model1)\n",
    "#delta_t= time.time() - it\n",
    "#print(f'Execution time: {delta_t:.3} seconds')"
   ]
  },
  {
   "cell_type": "code",
   "execution_count": 32,
   "metadata": {
    "tags": []
   },
   "outputs": [
    {
     "data": {
      "image/png": "[encoded data removed]",
      "text/plain": [
       "<Figure size 1200x800 with 2 Axes>"
      ]
     },
     "metadata": {},
     "output_type": "display_data"
    },
    {
     "name": "stdout",
     "output_type": "stream",
     "text": [
      "accuracy\n",
      "\taccuracy         \t (min:    0.268, max:    0.979, cur:    0.974)\n",
      "Loss\n",
      "\tloss             \t (min:    0.002, max:    0.003, cur:    0.002)\n"
     ]
    }
   ],
   "source": [
    "#%%timeit\n",
    "train_model(train_s_dl, model2)"
   ]
  },
  {
   "cell_type": "markdown",
   "metadata": {
    "tags": []
   },
   "source": [
    "## *4. Avaliar o Modelo"
   ]
  },
  {
   "cell_type": "code",
   "execution_count": 33,
   "metadata": {
    "tags": []
   },
   "outputs": [],
   "source": [
    "# Avaliar o modelo\n",
    "def evaluate_model(test_dl, model):\n",
    "    predictions = list()\n",
    "    predictions_prob = list()\n",
    "    actual_values = list()\n",
    "    for i, (inputs, labels) in enumerate(test_dl):\n",
    "        # avaliar o modelo com os casos de teste\n",
    "        yprev = model(inputs)\n",
    "        # retirar o array numpy\n",
    "        yprev = yprev.detach().numpy()\n",
    "        actual = labels.numpy()\n",
    "        # arredondar para obter a classe\n",
    "        predictions_prob.append(yprev) #vamos guardar tambem a probabilidade\n",
    "        yprev = yprev.round()\n",
    "        # guardar\n",
    "        predictions.append(yprev)\n",
    "        actual_values.append(actual)\n",
    "    predictions_prob = np.vstack(predictions_prob)\n",
    "    predictions = np.vstack(predictions)\n",
    "    actual_values =  np.vstack(actual_values)\n",
    "    return predictions_prob, predictions, actual_values\n",
    " \n",
    "def display_confusion_matrix(cm):\n",
    "    plt.figure(figsize = (16,8))\n",
    "    sns.heatmap(cm,annot=True,xticklabels=['b','g'],yticklabels=['b','g'], annot_kws={\"size\": 12}, fmt='g', linewidths=.5)\n",
    "    plt.ylabel('True label')\n",
    "    plt.xlabel('Predicted label')\n",
    "    plt.show() \n",
    "    \n"
   ]
  },
  {
   "cell_type": "code",
   "execution_count": 34,
   "metadata": {
    "tags": []
   },
   "outputs": [
    {
     "data": {
      "text/plain": [
       "\"\\n# avaliar o modelo\\npredictions_prob, predictions, actual_values = evaluate_model(test_dl, model1)\\n#actuals, predictions = evaluate_model(train_dl, model)\\n# calcular a accuracy\\nacc = accuracy_score(actual_values, predictions)\\nprint(f'Accuracy: {acc:0.3f}\\n')\\n\\nacertou=0\\nfalhou = 0\\nfor prob, r,p in zip(predictions_prob, actual_values, predictions):\\n    print(f'real:{r} probabilidade:{prob} previsão:{p}') \\n    if r==p: acertou+=1  \\n    else: falhou+=1\\nprint(f'acertou:{acertou} falhou:{falhou}')\\n\\n# relatório de classificação: precision, recall, f1-score, support vs. 0,1, accuracy, macro avg, weighted avg\\nprint(classification_report(actual_values, predictions))\\n\\n# matriz confusão\\ncm = confusion_matrix(actual_values, predictions)\\nprint (cm)\\ndisplay_confusion_matrix(cm)\\n\""
      ]
     },
     "execution_count": 34,
     "metadata": {},
     "output_type": "execute_result"
    }
   ],
   "source": [
    "'''\n",
    "# avaliar o modelo\n",
    "predictions_prob, predictions, actual_values = evaluate_model(test_dl, model1)\n",
    "#actuals, predictions = evaluate_model(train_dl, model)\n",
    "# calcular a accuracy\n",
    "acc = accuracy_score(actual_values, predictions)\n",
    "print(f'Accuracy: {acc:0.3f}\\n')\n",
    "\n",
    "acertou=0\n",
    "falhou = 0\n",
    "for prob, r,p in zip(predictions_prob, actual_values, predictions):\n",
    "    print(f'real:{r} probabilidade:{prob} previsão:{p}') \n",
    "    if r==p: acertou+=1  \n",
    "    else: falhou+=1\n",
    "print(f'acertou:{acertou} falhou:{falhou}')\n",
    "\n",
    "# relatório de classificação: precision, recall, f1-score, support vs. 0,1, accuracy, macro avg, weighted avg\n",
    "print(classification_report(actual_values, predictions))\n",
    "\n",
    "# matriz confusão\n",
    "cm = confusion_matrix(actual_values, predictions)\n",
    "print (cm)\n",
    "display_confusion_matrix(cm)\n",
    "'''"
   ]
  },
  {
   "cell_type": "code",
   "execution_count": 35,
   "metadata": {
    "tags": []
   },
   "outputs": [
    {
     "name": "stdout",
     "output_type": "stream",
     "text": [
      "Accuracy: 0.940\n",
      "\n",
      "real:[1.] probabilidade:[0.9992079] previsão:[1.]\n",
      "real:[0.] probabilidade:[0.00118836] previsão:[0.]\n",
      "real:[0.] probabilidade:[0.00015844] previsão:[0.]\n",
      "real:[1.] probabilidade:[0.9987802] previsão:[1.]\n",
      "real:[1.] probabilidade:[0.9975083] previsão:[1.]\n",
      "real:[1.] probabilidade:[0.9993998] previsão:[1.]\n",
      "real:[1.] probabilidade:[0.9706651] previsão:[1.]\n",
      "real:[1.] probabilidade:[0.99910396] previsão:[1.]\n",
      "real:[1.] probabilidade:[0.9967154] previsão:[1.]\n",
      "real:[1.] probabilidade:[0.99887925] previsão:[1.]\n",
      "real:[0.] probabilidade:[0.0091664] previsão:[0.]\n",
      "real:[0.] probabilidade:[0.36090714] previsão:[0.]\n",
      "real:[1.] probabilidade:[0.97782314] previsão:[1.]\n",
      "real:[1.] probabilidade:[0.9783545] previsão:[1.]\n",
      "real:[1.] probabilidade:[0.9914101] previsão:[1.]\n",
      "real:[0.] probabilidade:[0.00200156] previsão:[0.]\n",
      "real:[1.] probabilidade:[0.9716015] previsão:[1.]\n",
      "real:[1.] probabilidade:[0.99527067] previsão:[1.]\n",
      "real:[1.] probabilidade:[0.99116135] previsão:[1.]\n",
      "real:[0.] probabilidade:[0.9955681] previsão:[1.]\n",
      "real:[1.] probabilidade:[0.04098788] previsão:[0.]\n",
      "real:[0.] probabilidade:[4.7307578e-05] previsão:[0.]\n",
      "real:[1.] probabilidade:[0.99906904] previsão:[1.]\n",
      "real:[1.] probabilidade:[0.9989905] previsão:[1.]\n",
      "real:[1.] probabilidade:[0.99288905] previsão:[1.]\n",
      "real:[1.] probabilidade:[0.9734085] previsão:[1.]\n",
      "real:[0.] probabilidade:[4.4742873e-07] previsão:[0.]\n",
      "real:[1.] probabilidade:[0.9908043] previsão:[1.]\n",
      "real:[0.] probabilidade:[0.00015226] previsão:[0.]\n",
      "real:[1.] probabilidade:[0.99563557] previsão:[1.]\n",
      "real:[1.] probabilidade:[0.9993498] previsão:[1.]\n",
      "real:[0.] probabilidade:[6.65378e-12] previsão:[0.]\n",
      "real:[0.] probabilidade:[7.5556736e-06] previsão:[0.]\n",
      "real:[1.] probabilidade:[0.99729246] previsão:[1.]\n",
      "real:[1.] probabilidade:[0.9825112] previsão:[1.]\n",
      "real:[1.] probabilidade:[0.97209483] previsão:[1.]\n",
      "real:[1.] probabilidade:[0.99578625] previsão:[1.]\n",
      "real:[0.] probabilidade:[0.31338793] previsão:[0.]\n",
      "real:[1.] probabilidade:[0.7112094] previsão:[1.]\n",
      "real:[0.] probabilidade:[2.6660098e-08] previsão:[0.]\n",
      "real:[1.] probabilidade:[0.6639413] previsão:[1.]\n",
      "real:[0.] probabilidade:[0.00015844] previsão:[0.]\n",
      "real:[1.] probabilidade:[0.9993931] previsão:[1.]\n",
      "real:[1.] probabilidade:[0.9941837] previsão:[1.]\n",
      "real:[1.] probabilidade:[0.9975776] previsão:[1.]\n",
      "real:[1.] probabilidade:[0.9994562] previsão:[1.]\n",
      "real:[1.] probabilidade:[0.99706274] previsão:[1.]\n",
      "real:[1.] probabilidade:[0.9978623] previsão:[1.]\n",
      "real:[1.] probabilidade:[0.97613055] previsão:[1.]\n",
      "real:[1.] probabilidade:[0.9975994] previsão:[1.]\n",
      "real:[1.] probabilidade:[0.68163556] previsão:[1.]\n",
      "real:[0.] probabilidade:[0.01494548] previsão:[0.]\n",
      "real:[1.] probabilidade:[0.9981639] previsão:[1.]\n",
      "real:[1.] probabilidade:[0.99518114] previsão:[1.]\n",
      "real:[1.] probabilidade:[0.99868625] previsão:[1.]\n",
      "real:[0.] probabilidade:[0.00012893] previsão:[0.]\n",
      "real:[1.] probabilidade:[0.99162865] previsão:[1.]\n",
      "real:[1.] probabilidade:[0.9993374] previsão:[1.]\n",
      "real:[1.] probabilidade:[0.99937326] previsão:[1.]\n",
      "real:[0.] probabilidade:[0.00468749] previsão:[0.]\n",
      "real:[0.] probabilidade:[6.675027e-10] previsão:[0.]\n",
      "real:[1.] probabilidade:[0.99152946] previsão:[1.]\n",
      "real:[0.] probabilidade:[0.01689082] previsão:[0.]\n",
      "real:[1.] probabilidade:[0.9733836] previsão:[1.]\n",
      "real:[1.] probabilidade:[0.964221] previsão:[1.]\n",
      "real:[1.] probabilidade:[0.9982492] previsão:[1.]\n",
      "real:[1.] probabilidade:[0.98352057] previsão:[1.]\n",
      "real:[1.] probabilidade:[0.99747664] previsão:[1.]\n",
      "real:[1.] probabilidade:[0.99338937] previsão:[1.]\n",
      "real:[0.] probabilidade:[0.92414993] previsão:[1.]\n",
      "real:[0.] probabilidade:[5.2850263e-10] previsão:[0.]\n",
      "real:[1.] probabilidade:[0.9994628] previsão:[1.]\n",
      "real:[0.] probabilidade:[0.00211631] previsão:[0.]\n",
      "real:[0.] probabilidade:[0.08266672] previsão:[0.]\n",
      "real:[0.] probabilidade:[0.94119155] previsão:[1.]\n",
      "real:[0.] probabilidade:[0.00339787] previsão:[0.]\n",
      "real:[0.] probabilidade:[0.00082366] previsão:[0.]\n",
      "real:[1.] probabilidade:[0.86905843] previsão:[1.]\n",
      "real:[0.] probabilidade:[0.00124661] previsão:[0.]\n",
      "real:[0.] probabilidade:[0.13507515] previsão:[0.]\n",
      "real:[0.] probabilidade:[0.00583024] previsão:[0.]\n",
      "real:[1.] probabilidade:[0.99816614] previsão:[1.]\n",
      "real:[0.] probabilidade:[6.9773987e-12] previsão:[0.]\n",
      "real:[0.] probabilidade:[7.373047e-08] previsão:[0.]\n",
      "real:[1.] probabilidade:[0.9991898] previsão:[1.]\n",
      "real:[1.] probabilidade:[0.9954601] previsão:[1.]\n",
      "real:[0.] probabilidade:[5.2041516e-05] previsão:[0.]\n",
      "real:[1.] probabilidade:[0.97256213] previsão:[1.]\n",
      "real:[1.] probabilidade:[0.9992489] previsão:[1.]\n",
      "real:[0.] probabilidade:[3.9514543e-09] previsão:[0.]\n",
      "real:[0.] probabilidade:[7.8445446e-05] previsão:[0.]\n",
      "real:[1.] probabilidade:[0.99944323] previsão:[1.]\n",
      "real:[0.] probabilidade:[0.00130109] previsão:[0.]\n",
      "real:[0.] probabilidade:[0.0030604] previsão:[0.]\n",
      "real:[0.] probabilidade:[1.3286177e-05] previsão:[0.]\n",
      "real:[1.] probabilidade:[0.9986343] previsão:[1.]\n",
      "real:[1.] probabilidade:[0.9990121] previsão:[1.]\n",
      "real:[1.] probabilidade:[0.9947332] previsão:[1.]\n",
      "real:[1.] probabilidade:[0.9993907] previsão:[1.]\n",
      "real:[0.] probabilidade:[0.00401431] previsão:[0.]\n",
      "real:[1.] probabilidade:[0.9952442] previsão:[1.]\n",
      "real:[0.] probabilidade:[0.9929554] previsão:[1.]\n",
      "real:[1.] probabilidade:[0.9989078] previsão:[1.]\n",
      "real:[0.] probabilidade:[0.9807351] previsão:[1.]\n",
      "real:[1.] probabilidade:[0.9642753] previsão:[1.]\n",
      "real:[1.] probabilidade:[0.9797305] previsão:[1.]\n",
      "real:[0.] probabilidade:[0.00029626] previsão:[0.]\n",
      "real:[1.] probabilidade:[0.9951357] previsão:[1.]\n",
      "real:[1.] probabilidade:[0.9986767] previsão:[1.]\n",
      "real:[1.] probabilidade:[0.9993117] previsão:[1.]\n",
      "real:[0.] probabilidade:[0.19922447] previsão:[0.]\n",
      "real:[1.] probabilidade:[0.9991373] previsão:[1.]\n",
      "real:[1.] probabilidade:[0.48381785] previsão:[0.]\n",
      "real:[1.] probabilidade:[0.997088] previsão:[1.]\n",
      "real:[1.] probabilidade:[0.97082335] previsão:[1.]\n",
      "real:[1.] probabilidade:[0.9997404] previsão:[1.]\n",
      "acertou:109 falhou:7\n",
      "              precision    recall  f1-score   support\n",
      "\n",
      "         0.0       0.95      0.88      0.91        42\n",
      "         1.0       0.94      0.97      0.95        74\n",
      "\n",
      "    accuracy                           0.94       116\n",
      "   macro avg       0.94      0.93      0.93       116\n",
      "weighted avg       0.94      0.94      0.94       116\n",
      "\n",
      "[[37  5]\n",
      " [ 2 72]]\n"
     ]
    },
    {
     "data": {
      "image/png": "[encoded data removed]",
      "text/plain": [
       "<Figure size 1600x800 with 2 Axes>"
      ]
     },
     "metadata": {},
     "output_type": "display_data"
    }
   ],
   "source": [
    "# avaliar o modelo\n",
    "predictions_prob, predictions, actual_values = evaluate_model(test_s_dl, model2)\n",
    "#actuals, predictions = evaluate_model(train_dl, model)\n",
    "# calcular a accuracy\n",
    "acc = accuracy_score(actual_values, predictions)\n",
    "print(f'Accuracy: {acc:0.3f}\\n')\n",
    "\n",
    "acertou=0\n",
    "falhou = 0\n",
    "for prob, r,p in zip(predictions_prob, actual_values, predictions):\n",
    "    print(f'real:{r} probabilidade:{prob} previsão:{p}') \n",
    "    if r==p: acertou+=1  \n",
    "    else: falhou+=1\n",
    "print(f'acertou:{acertou} falhou:{falhou}')\n",
    "\n",
    "# relatório de classificação: precision, recall, f1-score, support vs. 0,1, accuracy, macro avg, weighted avg\n",
    "print(classification_report(actual_values, predictions))\n",
    "\n",
    "# matriz confusão\n",
    "cm = confusion_matrix(actual_values, predictions)\n",
    "print (cm)\n",
    "display_confusion_matrix(cm)"
   ]
  },
  {
   "cell_type": "markdown",
   "metadata": {
    "tags": []
   },
   "source": [
    "## *5. Usar o Modelo"
   ]
  },
  {
   "cell_type": "code",
   "execution_count": 36,
   "metadata": {
    "tags": []
   },
   "outputs": [
    {
     "name": "stdout",
     "output_type": "stream",
     "text": [
      "Predicted: 0.641 (class=1)\n",
      "Predicted: 0.994 (class=1)\n"
     ]
    }
   ],
   "source": [
    "# fazer uma previsão utilizando um caso\n",
    "def predict(row, model):\n",
    "    # converter row para tensor\n",
    "    row = Tensor([row])\n",
    "    # fazer a previsão\n",
    "    yprev = model(row)\n",
    "    # retirar o array numpy\n",
    "    yprev = yprev.detach().numpy()\n",
    "    return yprev\n",
    " \n",
    "# fazer uma única previsão (classe esperada = 1)\n",
    "row = [1,0,0.99539,-0.05889,0.85243,0.02306,0.83398,-0.37708,1,0.03760,0.85243,-0.17755,0.59755,-0.44945,0.60536,-0.38223,0.84356,-0.38542,0.58212,-0.32192,0.56971,-0.29674,0.36946,-0.47357,0.56811,-0.51171,0.41078,-0.46168,0.21266,-0.34090,0.42267,-0.54487,0.18641,-0.45300]\n",
    "yprev = predict(row, model1)\n",
    "print('Predicted: %.3f (class=%d)' % (yprev, yprev.round()))\n",
    "yprev = predict(row, model2)\n",
    "print('Predicted: %.3f (class=%d)' % (yprev, yprev.round()))"
   ]
  }
 ],
 "metadata": {
  "kernelspec": {
   "display_name": "Python 3",
   "language": "python",
   "name": "python3"
  },
  "language_info": {
   "codemirror_mode": {
    "name": "ipython",
    "version": 3
   },
   "file_extension": ".py",
   "mimetype": "text/x-python",
   "name": "python",
   "nbconvert_exporter": "python",
   "pygments_lexer": "ipython3",
   "version": "3.9.0"
  }
 },
 "nbformat": 4,
 "nbformat_minor": 4
}
